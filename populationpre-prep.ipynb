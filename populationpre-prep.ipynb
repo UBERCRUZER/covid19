{
 "metadata": {
  "language_info": {
   "codemirror_mode": {
    "name": "ipython",
    "version": 3
   },
   "file_extension": ".py",
   "mimetype": "text/x-python",
   "name": "python",
   "nbconvert_exporter": "python",
   "pygments_lexer": "ipython3",
   "version": "3.6.10-final"
  },
  "orig_nbformat": 2,
  "kernelspec": {
   "name": "python361064bitacocondac17bd05533524cec8f314ba0432b377a",
   "display_name": "Python 3.6.10 64-bit ('ACO': conda)"
  }
 },
 "nbformat": 4,
 "nbformat_minor": 2,
 "cells": [
  {
   "cell_type": "code",
   "execution_count": 1,
   "metadata": {},
   "outputs": [],
   "source": [
    "import pandas as pd\n",
    "import json\n",
    "import os\n"
   ]
  },
  {
   "cell_type": "code",
   "execution_count": 2,
   "metadata": {},
   "outputs": [],
   "source": [
    "d = \"population\"\n",
    "filenames = []\n",
    "for path in os.listdir(d):\n",
    "    full_path = os.path.join(d, path)\n",
    "    if os.path.isfile(full_path):\n",
    "        filenames.append(full_path)\n",
    "\n",
    "popDF = pd.DataFrame()\n",
    "\n",
    "for currFile in filenames:\n",
    "    with open(currFile) as jsonFile:\n",
    "        dictJson = json.load(jsonFile)\n",
    "    popDF = popDF.append(pd.DataFrame.from_dict(dictJson), ignore_index=True)\n",
    "\n",
    "names = popDF.iloc[0,:].tolist()\n",
    "\n",
    "\n",
    "popDF.to_csv('USpopulation.csv', header=False, index=False)"
   ]
  },
  {
   "cell_type": "code",
   "execution_count": 3,
   "metadata": {},
   "outputs": [],
   "source": [
    "\n",
    "popPath = os.path.join(os.getcwd(), 'USpopulation.csv')\n",
    "popDF = pd.read_csv(popPath)\n",
    "\n",
    "popDF[['NAME']] = [i.replace(' County', '') + ', US' for i in popDF.NAME.tolist()]\n",
    "\n",
    "popDF['FIPS'] = popDF['state'].apply(lambda x: '{0:0>2}'.format(x)).astype(str) + popDF['county'].apply(lambda x: '{0:0>3}'.format(x)).astype(str)\n",
    "\n",
    "popDF = popDF.drop(['state', 'county'], axis=1)"
   ]
  },
  {
   "cell_type": "code",
   "execution_count": 4,
   "metadata": {},
   "outputs": [],
   "source": [
    "popDF.to_csv('USpopulation.csv', index=False)"
   ]
  },
  {
   "cell_type": "code",
   "execution_count": 5,
   "metadata": {},
   "outputs": [
    {
     "output_type": "execute_result",
     "data": {
      "text/plain": "'01001'"
     },
     "metadata": {},
     "execution_count": 5
    }
   ],
   "source": [
    "popDF['FIPS'].min()"
   ]
  },
  {
   "cell_type": "code",
   "execution_count": null,
   "metadata": {},
   "outputs": [],
   "source": []
  }
 ]
}