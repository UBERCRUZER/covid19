{
 "metadata": {
  "language_info": {
   "codemirror_mode": {
    "name": "ipython",
    "version": 3
   },
   "file_extension": ".py",
   "mimetype": "text/x-python",
   "name": "python",
   "nbconvert_exporter": "python",
   "pygments_lexer": "ipython3",
   "version": "3.6.10-final"
  },
  "orig_nbformat": 2,
  "kernelspec": {
   "name": "python_defaultSpec_1600712698839",
   "display_name": "Python 3.6.10 64-bit ('ACO': conda)"
  }
 },
 "nbformat": 4,
 "nbformat_minor": 2,
 "cells": [
  {
   "cell_type": "code",
   "execution_count": 68,
   "metadata": {},
   "outputs": [],
   "source": [
    "import pandas as pd\n",
    "import json\n",
    "import os\n"
   ]
  },
  {
   "cell_type": "code",
   "execution_count": 69,
   "metadata": {},
   "outputs": [],
   "source": [
    "d = \"population\"\n",
    "filenames = []\n",
    "for path in os.listdir(d):\n",
    "    full_path = os.path.join(d, path)\n",
    "    if os.path.isfile(full_path):\n",
    "        filenames.append(full_path)\n",
    "\n",
    "popDF = pd.DataFrame()\n",
    "\n",
    "for currFile in filenames:\n",
    "    with open(currFile) as jsonFile:\n",
    "        dictJson = json.load(jsonFile)\n",
    "    popDF = popDF.append(pd.DataFrame.from_dict(dictJson), ignore_index=True)\n",
    "\n",
    "names = popDF.iloc[0,:].tolist()\n",
    "\n",
    "\n",
    "popDF.to_csv('USpopulation.csv', header=False, index=False)"
   ]
  },
  {
   "cell_type": "code",
   "execution_count": 70,
   "metadata": {},
   "outputs": [],
   "source": [
    "\n",
    "popPath = os.path.join(os.getcwd(), 'USpopulation.csv')\n",
    "popDF = pd.read_csv(popPath)\n",
    "\n",
    "popDF[['NAME']] = [i.replace(' County', '') + ', US' for i in popDF.NAME.tolist()]\n",
    "\n",
    "popDF = popDF.drop(['state', 'county'], axis=1)"
   ]
  },
  {
   "cell_type": "code",
   "execution_count": 71,
   "metadata": {},
   "outputs": [],
   "source": [
    "popDF.to_csv('USpopulation.csv', index=False)"
   ]
  },
  {
   "cell_type": "code",
   "execution_count": 72,
   "metadata": {},
   "outputs": [
    {
     "output_type": "execute_result",
     "data": {
      "text/plain": "                        NAME    POP\n0         Barber, Kansas, US   4427\n1      Dickinson, Kansas, US  18466\n2      Jefferson, Kansas, US  19043\n3      Greenup, Kentucky, US  35098\n4      Fleming, Kentucky, US  14581\n...                      ...    ...\n3215        Tyler, Texas, US  21672\n3216      Wheeler, Texas, US   5056\n3217         Hill, Texas, US  36649\n3218    Limestone, Texas, US  23437\n3219  Nacogdoches, Texas, US  65204\n\n[3220 rows x 2 columns]",
      "text/html": "<div>\n<style scoped>\n    .dataframe tbody tr th:only-of-type {\n        vertical-align: middle;\n    }\n\n    .dataframe tbody tr th {\n        vertical-align: top;\n    }\n\n    .dataframe thead th {\n        text-align: right;\n    }\n</style>\n<table border=\"1\" class=\"dataframe\">\n  <thead>\n    <tr style=\"text-align: right;\">\n      <th></th>\n      <th>NAME</th>\n      <th>POP</th>\n    </tr>\n  </thead>\n  <tbody>\n    <tr>\n      <th>0</th>\n      <td>Barber, Kansas, US</td>\n      <td>4427</td>\n    </tr>\n    <tr>\n      <th>1</th>\n      <td>Dickinson, Kansas, US</td>\n      <td>18466</td>\n    </tr>\n    <tr>\n      <th>2</th>\n      <td>Jefferson, Kansas, US</td>\n      <td>19043</td>\n    </tr>\n    <tr>\n      <th>3</th>\n      <td>Greenup, Kentucky, US</td>\n      <td>35098</td>\n    </tr>\n    <tr>\n      <th>4</th>\n      <td>Fleming, Kentucky, US</td>\n      <td>14581</td>\n    </tr>\n    <tr>\n      <th>...</th>\n      <td>...</td>\n      <td>...</td>\n    </tr>\n    <tr>\n      <th>3215</th>\n      <td>Tyler, Texas, US</td>\n      <td>21672</td>\n    </tr>\n    <tr>\n      <th>3216</th>\n      <td>Wheeler, Texas, US</td>\n      <td>5056</td>\n    </tr>\n    <tr>\n      <th>3217</th>\n      <td>Hill, Texas, US</td>\n      <td>36649</td>\n    </tr>\n    <tr>\n      <th>3218</th>\n      <td>Limestone, Texas, US</td>\n      <td>23437</td>\n    </tr>\n    <tr>\n      <th>3219</th>\n      <td>Nacogdoches, Texas, US</td>\n      <td>65204</td>\n    </tr>\n  </tbody>\n</table>\n<p>3220 rows × 2 columns</p>\n</div>"
     },
     "metadata": {},
     "execution_count": 72
    }
   ],
   "source": [
    "popDF"
   ]
  },
  {
   "cell_type": "code",
   "execution_count": null,
   "metadata": {},
   "outputs": [],
   "source": []
  }
 ]
}